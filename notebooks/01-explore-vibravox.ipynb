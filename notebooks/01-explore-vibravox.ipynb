{
 "cells": [
  {
   "cell_type": "markdown",
   "id": "9bb45bd4",
   "metadata": {},
   "source": [
    "# Exploring the Vibravox Dataset\n",
    "This notebook demonstrates how to load and visualize samples from the Vibravox dataset."
   ]
  },
  {
   "cell_type": "code",
   "execution_count": null,
   "id": "e3d078cb",
   "metadata": {},
   "outputs": [],
   "source": [
    "from datasets import load_dataset\n",
    "import matplotlib.pyplot as plt\n",
    "\n",
    "subset = 'speechless_clean'\n",
    "vibravox = load_dataset('Cnam-LMSSC/vibravox', subset)\n",
    "\n",
    "example = vibravox['train'][0]\n",
    "plt.plot(example['audio.headset_microphone']['array'])\n",
    "plt.title('Sample Audio Waveform')\n",
    "plt.xlabel('Time')\n",
    "plt.ylabel('Amplitude')\n",
    "plt.show()"
   ]
  }
 ],
 "metadata": {
  "language_info": {
   "name": "python"
  }
 },
 "nbformat": 4,
 "nbformat_minor": 5
}
